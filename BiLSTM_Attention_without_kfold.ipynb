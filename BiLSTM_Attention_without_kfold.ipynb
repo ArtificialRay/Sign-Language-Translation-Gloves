{
 "cells": [
  {
   "cell_type": "markdown",
   "metadata": {},
   "source": [
    "data preparation:"
   ]
  },
  {
   "cell_type": "code",
   "execution_count": 110,
   "metadata": {},
   "outputs": [],
   "source": [
    "import numpy as np\n",
    "import pandas as pd\n",
    "import torch\n",
    "import torch.nn as nn\n",
    "import torch.nn.functional as F\n",
    "import copy"
   ]
  },
  {
   "cell_type": "code",
   "execution_count": 111,
   "metadata": {},
   "outputs": [],
   "source": [
    "# constants:\n",
    "GESTURE_NUM = 13\n",
    "VCC = 5"
   ]
  },
  {
   "cell_type": "code",
   "execution_count": 112,
   "metadata": {},
   "outputs": [
    {
     "data": {
      "text/plain": [
       "(13, 390)"
      ]
     },
     "execution_count": 112,
     "metadata": {},
     "output_type": "execute_result"
    }
   ],
   "source": [
    "# load data\n",
    "ges_dfs = [[i] for i in range(GESTURE_NUM)]\n",
    "folder_path = \".\\\\gesture_data\\\\\"\n",
    "for i in range(GESTURE_NUM):\n",
    "    file_path = folder_path + f\"gesture{i+1}.csv\"\n",
    "    df = pd.read_csv(file_path)\n",
    "    zero_rows = (df == 0).all(axis=1)\n",
    "    zero_rows_indexes = list(zero_rows[zero_rows].index)\n",
    "    ges_df_list = []\n",
    "    ges_dfs[i].pop()\n",
    "    start = 0\n",
    "    for j in range(len(zero_rows_indexes)):\n",
    "        ges_df = df.iloc[start:zero_rows_indexes[j],:]\n",
    "        start = zero_rows_indexes[j] + 1\n",
    "        ges_df_list.append(ges_df)     \n",
    "    ges_dfs[i].extend(ges_df_list)\n",
    "\n",
    "len(ges_dfs),len(ges_dfs[0])"
   ]
  },
  {
   "cell_type": "code",
   "execution_count": 113,
   "metadata": {},
   "outputs": [
    {
     "data": {
      "text/plain": [
       "(14, 10)"
      ]
     },
     "execution_count": 113,
     "metadata": {},
     "output_type": "execute_result"
    }
   ],
   "source": [
    "ges_dfs[0][0].shape"
   ]
  },
  {
   "cell_type": "code",
   "execution_count": 114,
   "metadata": {},
   "outputs": [
    {
     "data": {
      "text/plain": [
       "14"
      ]
     },
     "execution_count": 114,
     "metadata": {},
     "output_type": "execute_result"
    }
   ],
   "source": [
    "# get time-step in lstm\n",
    "time_step =zero_rows_indexes[1] - zero_rows_indexes[0] - 1 # remove all-zero row\n",
    "time_step"
   ]
  },
  {
   "cell_type": "code",
   "execution_count": 115,
   "metadata": {},
   "outputs": [],
   "source": [
    "def set_shuffle(setX:list,setY:list):\n",
    "    \"\"\"\n",
    "    shuffle setX and setY, but still keep setX and setY's mapping\n",
    "    return:\n",
    "       setX,setY\n",
    "    \"\"\"\n",
    "    import random\n",
    "    ges_set = list(zip(setY,setX))\n",
    "    keys = [i+1 for i in range(len(ges_set))]\n",
    "    ges_set_dict = dict(zip(keys,ges_set))\n",
    "    random.shuffle(keys)\n",
    "    setX = []\n",
    "    setY = []\n",
    "    for i in range(len(keys)):\n",
    "        ges_sample = ges_set_dict[keys[i]]\n",
    "        setX.append(ges_sample[1])\n",
    "        setY.append(ges_sample[0])\n",
    "    return setX,setY"
   ]
  },
  {
   "cell_type": "code",
   "execution_count": 116,
   "metadata": {},
   "outputs": [],
   "source": [
    "# get training set, CV set and testing set:\n",
    "ges_trainingX = []\n",
    "ges_trainingY = []\n",
    "ges_validationX = []\n",
    "ges_validationY = []\n",
    "ges_testingX = []\n",
    "ges_testingY = []\n",
    "\n",
    "\n",
    "for i in range(GESTURE_NUM):\n",
    "    CV_split = round(len(ges_dfs[i]) * 0.30)\n",
    "    test_split = round(len(ges_dfs[i]) * 0.10) \n",
    "    ges_trainingX.extend(ges_dfs[i][:len(ges_dfs[i])-CV_split]) # training set\n",
    "    ges_validationX.extend(ges_dfs[i][len(ges_dfs[i])-CV_split:len(ges_dfs[i])-test_split]) # validation set\n",
    "    ges_testingX.extend(ges_dfs[i][len(ges_dfs[i])-test_split:]) # test set\n",
    "\n",
    "    ges_trainingY.extend([i+1]*(len(ges_dfs[i])-CV_split))\n",
    "    ges_validationY.extend([i+1]*((len(ges_dfs[i])-test_split)-(len(ges_dfs[i])-CV_split)))\n",
    "    ges_testingY.extend([i+1]*test_split)\n",
    "\n",
    "# shuffle training and testing set\n",
    "ges_trainingX,ges_trainingY = set_shuffle(ges_trainingX,ges_trainingY)\n",
    "ges_validationX,ges_validationY = set_shuffle(ges_validationX,ges_validationY)\n",
    "ges_testingX,ges_testingY = set_shuffle(ges_testingX,ges_testingY)\n"
   ]
  },
  {
   "cell_type": "code",
   "execution_count": 117,
   "metadata": {},
   "outputs": [
    {
     "name": "stdout",
     "output_type": "stream",
     "text": [
      "trainX shape-- ( 3549 , (14, 10) )\n",
      "CV_X shape--  ( 1014 , (14, 10) )\n",
      "testX shape-- ( 507 , (14, 10) )\n"
     ]
    }
   ],
   "source": [
    "# shape of all sets:\n",
    "print(\"trainX shape--\",\"(\",len(ges_trainingX),\",\",ges_trainingX[0].shape,\")\")\n",
    "print(\"CV_X shape-- \",\"(\",len(ges_validationX),\",\",ges_validationX[0].shape,\")\")\n",
    "print(\"testX shape--\",\"(\",len(ges_testingX),\",\",ges_testingX[0].shape,\")\")"
   ]
  },
  {
   "cell_type": "code",
   "execution_count": 118,
   "metadata": {},
   "outputs": [],
   "source": [
    "def transfrom_flex_raw(setX):\n",
    "    setX = setX.copy()\n",
    "    setX.iloc[:,:5] = setX.iloc[:,:5] * 5 / 1023.0\n",
    "    return setX"
   ]
  },
  {
   "cell_type": "code",
   "execution_count": 119,
   "metadata": {},
   "outputs": [],
   "source": [
    "from sklearn.preprocessing import MinMaxScaler"
   ]
  },
  {
   "cell_type": "code",
   "execution_count": 120,
   "metadata": {},
   "outputs": [],
   "source": [
    "# concat all training data in X, and do normalization:\n",
    "ges_trainingX_df = pd.concat(ges_trainingX)\n",
    "ges_validationX_df = pd.concat(ges_validationX)\n",
    "ges_testingX_df = pd.concat(ges_testingX)\n",
    "# #用于后续性能优化：让analog pin口读数转为电压\n",
    "# ges_trainingX_df = transfrom_flex_raw(ges_trainingX_df)\n",
    "# ges_testingX_df = transfrom_flex_raw(ges_testingX_df)\n",
    "\n",
    "# transfrom flex sensor data to voltage:\n",
    "\n",
    "scaler = MinMaxScaler(feature_range=(0,1))\n",
    "ges_trainingX_scaled = scaler.fit_transform(ges_trainingX_df)\n",
    "ges_validationX_scaled = scaler.fit_transform(ges_validationX_df)\n",
    "ges_testingX_scaled = scaler.fit_transform(ges_testingX_df)"
   ]
  },
  {
   "cell_type": "code",
   "execution_count": 121,
   "metadata": {},
   "outputs": [
    {
     "data": {
      "text/plain": [
       "((49686, 10), (14196, 10), (7098, 10))"
      ]
     },
     "execution_count": 121,
     "metadata": {},
     "output_type": "execute_result"
    }
   ],
   "source": [
    "ges_trainingX_scaled.shape,ges_validationX_scaled.shape,ges_testingX_scaled.shape"
   ]
  },
  {
   "cell_type": "code",
   "execution_count": 122,
   "metadata": {},
   "outputs": [],
   "source": [
    "def splitX(dataset,time_step):\n",
    "    dataX = []\n",
    "    for i in range(time_step,len(dataset)+time_step,time_step):\n",
    "        dataX.append(dataset[i-time_step:i,0:dataset.shape[1]]) \n",
    "    return np.array(dataX)"
   ]
  },
  {
   "cell_type": "code",
   "execution_count": 123,
   "metadata": {},
   "outputs": [],
   "source": [
    "\n",
    "ges_trainingX = splitX(ges_trainingX_scaled,time_step)\n",
    "ges_trainingY = np.array(ges_trainingY) # generate an one-hot encoding for labels, this encoding is a dim=14 vector, where first element points to label=0(however, no label here =0)\n",
    "ges_validationX = splitX(ges_validationX_scaled,time_step)\n",
    "ges_validationY = np.array(ges_validationY)\n",
    "ges_testingX = splitX(ges_testingX_scaled,time_step)\n",
    "ges_testingY = np.array(ges_testingY)"
   ]
  },
  {
   "cell_type": "code",
   "execution_count": 124,
   "metadata": {},
   "outputs": [
    {
     "name": "stdout",
     "output_type": "stream",
     "text": [
      "trainX Shape--  (3549, 14, 10)\n",
      "trainY Shape--  (3549,)\n",
      "CV_X Shape--  (1014, 14, 10)\n",
      "CV_Y Shape--  (1014,)\n",
      "testX Shape--  (507, 14, 10)\n",
      "testY Shape--  (507,)\n"
     ]
    }
   ],
   "source": [
    "# view shapes\n",
    "print(\"trainX Shape-- \",ges_trainingX.shape)\n",
    "print(\"trainY Shape-- \",ges_trainingY.shape)\n",
    "print(\"CV_X Shape-- \",ges_validationX.shape)\n",
    "print(\"CV_Y Shape-- \",ges_validationY.shape)\n",
    "print(\"testX Shape-- \",ges_testingX.shape)\n",
    "print(\"testY Shape-- \",ges_testingY.shape)\n"
   ]
  },
  {
   "cell_type": "code",
   "execution_count": 125,
   "metadata": {},
   "outputs": [],
   "source": [
    "from torch.utils.data import DataLoader,TensorDataset,SubsetRandomSampler"
   ]
  },
  {
   "cell_type": "code",
   "execution_count": 126,
   "metadata": {},
   "outputs": [],
   "source": [
    "# 将 NumPy 数组转换为 PyTorch Tensor\n",
    "trainX_tensor = torch.tensor(ges_trainingX,dtype=torch.float32)\n",
    "trainY_tensor = torch.tensor(ges_trainingY,dtype=torch.float32)\n",
    "validationX_tensor = torch.tensor(ges_validationX,dtype=torch.float32)\n",
    "validationY_tensor = torch.tensor(ges_validationY,dtype=torch.float32)\n",
    "testX_tensor = torch.tensor(ges_testingX,dtype=torch.float32)\n",
    "testY_tensor = torch.tensor(ges_testingY,dtype=torch.float32)\n",
    "\n",
    "# 创建 TensorDataset\n",
    "train_dataset = TensorDataset(trainX_tensor, trainY_tensor)\n",
    "CV_dataset = TensorDataset(validationX_tensor,validationY_tensor)\n",
    "test_dataset = TensorDataset(testX_tensor, testY_tensor)\n",
    "\n",
    "# 创建 DataLoader\n",
    "train_loader = DataLoader(train_dataset, batch_size=16, shuffle=True)\n",
    "CV_loader = DataLoader(CV_dataset,batch_size=16,shuffle=False) \n",
    "test_loader = DataLoader(test_dataset, batch_size=16, shuffle=False)  # 测试集通常不打乱"
   ]
  },
  {
   "cell_type": "markdown",
   "metadata": {},
   "source": [
    "Model training："
   ]
  },
  {
   "cell_type": "code",
   "execution_count": 127,
   "metadata": {},
   "outputs": [
    {
     "data": {
      "text/plain": [
       "<torch._C.Generator at 0x1cd87b37a30>"
      ]
     },
     "execution_count": 127,
     "metadata": {},
     "output_type": "execute_result"
    }
   ],
   "source": [
    "torch.manual_seed(3407)"
   ]
  },
  {
   "cell_type": "code",
   "execution_count": 128,
   "metadata": {},
   "outputs": [],
   "source": [
    "# constants\n",
    "num_layers = 1  #一层lstm\n",
    "num_directions = 2  #双向lstm\n",
    "lr = 1e-3 # 学习率\n",
    "batch_size = 16   \n",
    "epochs = 20\n",
    "device = torch.device(\"cuda\" if torch.cuda.is_available() else \"cpu\")"
   ]
  },
  {
   "cell_type": "code",
   "execution_count": 129,
   "metadata": {},
   "outputs": [],
   "source": [
    "num_classses =GESTURE_NUM+1\n",
    "time_step = 14\n",
    "input_size = 10\n",
    "hidden_size = 100 # how many hidden layer on LSTM"
   ]
  },
  {
   "cell_type": "code",
   "execution_count": 130,
   "metadata": {},
   "outputs": [],
   "source": [
    "class BiLSTMModel(nn.Module):\n",
    "    def __init__(self, input_size,hidden_size, num_layers, num_directions, num_classes,dropout_prob):\n",
    "        super(BiLSTMModel, self).__init__()\n",
    "\n",
    "        self.input_size = input_size # 数据维度\n",
    "        self.hidden_size = hidden_size\n",
    "        self.num_layers = num_layers\n",
    "        self.num_directions = num_directions\n",
    "        \n",
    "        \n",
    "        self.lstm1 = nn.LSTM(input_size, hidden_size, \n",
    "                             num_layers = num_layers, bidirectional = (num_directions == 2))\n",
    "        self.lstm2 = nn.LSTM(hidden_size, hidden_size, \n",
    "                             num_layers = num_layers, bidirectional = (num_directions == 2))\n",
    "        self.dropout = nn.Dropout(dropout_prob)\n",
    "        self.attention_weights_layer = nn.Sequential(\n",
    "            nn.Linear(hidden_size, hidden_size),\n",
    "            nn.ReLU(inplace=True)\n",
    "        )\n",
    "        self.liner = nn.Linear(hidden_size, num_classes)\n",
    "        self.act_func = nn.Softmax(dim=1)\n",
    "    \n",
    "    def forward(self,x):\n",
    "        \"\"\"\n",
    "        x: input data with shape: [batch_size, time_step, embedding_size]\n",
    "        \"\"\"\n",
    "        #x [batch_size, time_step, embedding_size]\n",
    "        x = x.permute(1, 0, 2) #[time_step, batch_size, embedding_size]\n",
    "        #LSTM 期望将时间步放在最前面        \n",
    "        #由于数据集不一定是预先设置的batch_size的整数倍，所以用size(1)获取当前数据实际的batch\n",
    "        batch_size = x.size(1)\n",
    "\n",
    "        # LSTM最初的前向输出，即记忆单元C和隐状图H\n",
    "        h_0 = torch.randn(self.num_layers * self.num_directions, batch_size, self.hidden_size).to(device)\n",
    "        c_0 = torch.randn(self.num_layers * self.num_directions, batch_size, self.hidden_size).to(device)\n",
    "\n",
    "        # 第一层LSTM\n",
    "        #out[seq_len, batch, num_directions * hidden_size]。多层lstm，out是每个时间步t的输出h_t\n",
    "        #h_n, c_n [num_layers(1) * num_directions, batch, hidden_size]，h_n是当前层最后一个隐状态输出\n",
    "        out, (h_n, c_n) = self.lstm1(x, (h_0, c_0))\n",
    "        # 第一层Dropout，\n",
    "        out = self.dropout(out)\n",
    "        #双向LSTM输出拆成前向和后向输出\n",
    "        #将双向lstm的输出拆分为前向输出和后向输出\n",
    "        (forward_out, backward_out) = torch.chunk(out, 2, dim = 2)\n",
    "        out = forward_out + backward_out  #[seq_len, batch, hidden_size]\n",
    "\n",
    "         # 第二层LSTM\n",
    "        out, (h_n, c_n) = self.lstm2(out, (h_n, c_n))\n",
    "        # 第二层Dropout\n",
    "        out = self.dropout(out)\n",
    "        \n",
    "        # 再次将双向LSTM的输出拆分为前向输出和后向输出，并求和\n",
    "        (forward_out, backward_out) = torch.chunk(out, 2, dim=2)\n",
    "        out = forward_out + backward_out  # [seq_len, batch, hidden_size]\n",
    "    \n",
    "        # 调整out的维度以符合后续处理的要求\n",
    "        out = out.permute(1, 0, 2)  # [batch, seq_len, hidden_size]\n",
    "        #print(\"LSTM out\",out)\n",
    "         #为了使用到lstm最后一个时间步时每层lstm的表达，用h_n生成attention的权重\n",
    "        h_n = h_n.permute(1, 0, 2)  #[batch, num_layers * num_directions,  hidden_size]\n",
    "        h_n = torch.sum(h_n, dim=1) #[batch, 1,  hidden_size]\n",
    "        h_n = h_n.squeeze(dim=1)  #[batch, hidden_size]\n",
    "        # 得到attention层的权重\n",
    "        attention_w = self.attention_weights_layer(h_n)  #[batch, hidden_size]\n",
    "        attention_w = attention_w.unsqueeze(dim=1) #[batch, 1, hidden_size]\n",
    "        m = nn.Tanh()(out)\n",
    "        # torch.bmm: 矩阵乘法,下文m.transpose(1,2)就是将原来维度从 [batch, seq_len, hidden_size] 转换为 [batch, hidden_size, seq_len]，以方便下面进行矩阵乘法\n",
    "        attention_context = torch.bmm(attention_w, m.transpose(1, 2))  #[batch, 1, seq_len]\n",
    "        #print(\"attention_context\",x,sep='\\n')\n",
    "        softmax_w = F.softmax(attention_context, dim=-1)  #[batch, 1, seq_len], 用softmax对刚才的权重归一化,a-> a'\n",
    "        \n",
    "        x = torch.bmm(softmax_w, out)  #[batch, 1, hidden_size] 抽取sequence内的重要信息\n",
    "        x = x.squeeze(dim=1)  #[batch, hidden_size]\n",
    "        #print(\"after squeeze:\",x,sep='\\n')\n",
    "        x = self.liner(x)\n",
    "        #x = self.act_func(x)\n",
    "        return x\n",
    "        "
   ]
  },
  {
   "cell_type": "code",
   "execution_count": 131,
   "metadata": {},
   "outputs": [],
   "source": [
    "def test(model, test_loader, loss_func):\n",
    "    model.eval()\n",
    "    loss_val = 0.0\n",
    "    corrects = 0.0\n",
    "    for datas, labels in test_loader:\n",
    "        datas = datas.to(device)\n",
    "        labels = labels.to(device)\n",
    "        \n",
    "        preds = model(datas)\n",
    "        loss = loss_func(preds, labels.long())\n",
    "        loss_val += loss.item() * datas.size(0)\n",
    "        \n",
    "        #获取预测的最大概率出现的位置\n",
    "        preds = nn.Softmax(dim=1)(preds)\n",
    "        preds = torch.argmax(preds, dim=1)\n",
    "        #labels = torch.argmax(labels, dim=0)\n",
    "        corrects += torch.sum(preds == labels).item()\n",
    "    test_loss = loss_val / len(test_loader.dataset) # 计算整个测试集的总损失\n",
    "    test_acc = corrects / len(test_loader.dataset) # 计算整个测试集的总正确率\n",
    "    print(f\"Test Loss: {test_loss:.4f}, Test Acc: {test_acc:.4f}\")\n",
    "    return test_loss,test_acc"
   ]
  },
  {
   "cell_type": "code",
   "execution_count": 132,
   "metadata": {},
   "outputs": [],
   "source": [
    "def train(model, train_loader,test_loader,optimizer, loss_func, epochs):\n",
    "    \"\"\"\n",
    "    define training process of upon model\n",
    "    return:\n",
    "    model: the model after training\n",
    "    train_loss_epochs: loss for each epoch in training\n",
    "    train_acc_epochs: accuracy for each epoch in training\n",
    "    CV_loss_epochs: loss for each epoch in validation\n",
    "    CV_acc_epochs: accuracy for each epoch in validation\n",
    "    \"\"\"\n",
    "    best_val_acc = 0.0\n",
    "    best_model_params = copy.deepcopy(model.state_dict())\n",
    "    # 记录训练损失和正确率，用于画图：\n",
    "    train_loss_epochs = []\n",
    "    train_acc_epochs = []\n",
    "    # 记录每次验证的损失和正确率，用于画图：\n",
    "    CV_loss_epochs = []\n",
    "    CV_acc_epochs = []\n",
    "    for epoch in range(epochs):\n",
    "        print(f\" epoch{epoch+1}:...\")\n",
    "        model.train() # 设置为训练模式\n",
    "        loss_val = 0.0\n",
    "        corrects = 0.0\n",
    "        for datas, labels in train_loader:\n",
    "            # datas: (batch_size,input_size(14),features(10))\n",
    "            # labels: (batch_size,input_size(14))\n",
    "            datas = datas.to(device)\n",
    "            labels = labels.to(device)\n",
    "            \n",
    "            preds = model(datas) # 前向传播\n",
    "            #print(labels.long())\n",
    "            loss = loss_func(preds, labels.long()) # 计算损失,tensor大小是1\n",
    "            \n",
    "            optimizer.zero_grad() # 清除优化器梯度（来自于上一次反向传播）\n",
    "            loss.backward() # 反向传播, 计算模型参数梯度\n",
    "            optimizer.step() # 根据计算得到的梯度，使用优化器更新模型的参数。\n",
    "            \n",
    "            loss_val += loss.item() * datas.size(0) #获取loss，并乘以当前批次大小\n",
    "            \n",
    "            #获取预测的最大概率出现的位置\n",
    "            preds = nn.Softmax(dim=1)(preds)\n",
    "            preds = torch.argmax(preds, dim=1)\n",
    "            #labels = torch.argmax(labels, dim=0)\n",
    "            corrects += torch.sum(preds == labels).item()\n",
    "        train_loss = loss_val / len(train_loader.dataset) # 计算整个模型的总损失\n",
    "        train_acc = corrects / len(train_loader.dataset) # 计算整个模型的总正确率\n",
    "        print(f\"Train Loss: {train_loss:.4f}, Train Acc: {train_acc:.4f}\")\n",
    "        train_loss_epochs.append(train_loss)\n",
    "        train_acc_epochs.append(train_acc)\n",
    "        # if(epoch % 2 == 0): 每个epoch都进行评估：\n",
    "        val_loss,val_acc = test(model, test_loader, loss_func)\n",
    "        if(best_val_acc < val_acc): #出现最优模型时，保存最优模型\n",
    "            best_val_acc = val_acc\n",
    "            best_model_params = copy.deepcopy(model.state_dict())\n",
    "        CV_loss_epochs.append(val_loss)\n",
    "        CV_acc_epochs.append(val_acc)\n",
    "    model.load_state_dict(best_model_params)\n",
    "        \n",
    "    return model,train_loss_epochs,train_acc_epochs,CV_loss_epochs,CV_acc_epochs\n",
    "    "
   ]
  },
  {
   "cell_type": "code",
   "execution_count": 133,
   "metadata": {},
   "outputs": [],
   "source": [
    "epochs=20"
   ]
  },
  {
   "cell_type": "code",
   "execution_count": 134,
   "metadata": {},
   "outputs": [
    {
     "name": "stdout",
     "output_type": "stream",
     "text": [
      " epoch1:...\n"
     ]
    },
    {
     "name": "stdout",
     "output_type": "stream",
     "text": [
      "Train Loss: 2.1352, Train Acc: 0.2040\n",
      "Test Loss: 1.9846, Test Acc: 0.2613\n",
      " epoch2:...\n",
      "Train Loss: 1.3603, Train Acc: 0.4455\n",
      "Test Loss: 1.6265, Test Acc: 0.4172\n",
      " epoch3:...\n",
      "Train Loss: 0.9761, Train Acc: 0.5948\n",
      "Test Loss: 2.0421, Test Acc: 0.4103\n",
      " epoch4:...\n",
      "Train Loss: 0.8019, Train Acc: 0.6762\n",
      "Test Loss: 1.7837, Test Acc: 0.4172\n",
      " epoch5:...\n",
      "Train Loss: 0.6863, Train Acc: 0.7270\n",
      "Test Loss: 1.8257, Test Acc: 0.3856\n",
      " epoch6:...\n",
      "Train Loss: 0.6188, Train Acc: 0.7549\n",
      "Test Loss: 2.1315, Test Acc: 0.3994\n",
      " epoch7:...\n",
      "Train Loss: 0.5894, Train Acc: 0.7582\n",
      "Test Loss: 1.5785, Test Acc: 0.4951\n",
      " epoch8:...\n",
      "Train Loss: 0.5529, Train Acc: 0.7830\n",
      "Test Loss: 1.6024, Test Acc: 0.4704\n",
      " epoch9:...\n",
      "Train Loss: 0.5041, Train Acc: 0.7966\n",
      "Test Loss: 2.0634, Test Acc: 0.4142\n",
      " epoch10:...\n",
      "Train Loss: 0.4993, Train Acc: 0.7983\n",
      "Test Loss: 1.9386, Test Acc: 0.4034\n",
      " epoch11:...\n",
      "Train Loss: 0.4488, Train Acc: 0.8267\n",
      "Test Loss: 2.0396, Test Acc: 0.4043\n",
      " epoch12:...\n",
      "Train Loss: 0.4106, Train Acc: 0.8453\n",
      "Test Loss: 1.9943, Test Acc: 0.4300\n",
      " epoch13:...\n",
      "Train Loss: 0.3829, Train Acc: 0.8481\n",
      "Test Loss: 1.8284, Test Acc: 0.4606\n",
      " epoch14:...\n",
      "Train Loss: 0.3737, Train Acc: 0.8563\n",
      "Test Loss: 1.9102, Test Acc: 0.4300\n",
      " epoch15:...\n",
      "Train Loss: 0.3431, Train Acc: 0.8698\n",
      "Test Loss: 2.0258, Test Acc: 0.4112\n",
      " epoch16:...\n",
      "Train Loss: 0.3235, Train Acc: 0.8746\n",
      "Test Loss: 2.1369, Test Acc: 0.4418\n",
      " epoch17:...\n",
      "Train Loss: 0.3076, Train Acc: 0.8831\n",
      "Test Loss: 2.0379, Test Acc: 0.4467\n",
      " epoch18:...\n",
      "Train Loss: 0.2910, Train Acc: 0.8915\n",
      "Test Loss: 2.1047, Test Acc: 0.4172\n",
      " epoch19:...\n",
      "Train Loss: 0.2808, Train Acc: 0.8986\n",
      "Test Loss: 2.1859, Test Acc: 0.4162\n",
      " epoch20:...\n",
      "Train Loss: 0.2790, Train Acc: 0.8960\n",
      "Test Loss: 1.9457, Test Acc: 0.4467\n"
     ]
    }
   ],
   "source": [
    "model = BiLSTMModel(input_size, hidden_size, num_layers, num_directions, num_classses,dropout_prob=0.1)\n",
    "model = model.to(device)\n",
    "optimizer = torch.optim.Adam(model.parameters(), lr=lr)\n",
    "loss_func = nn.CrossEntropyLoss() # 与categorical crossEntropyLoss不同，CrossEntropyLoss期望输出是一个类索引，而不是独热编码\n",
    "model,train_loss,train_acc,CV_loss,CV_acc = train(model, train_loader,CV_loader,optimizer, loss_func, epochs)"
   ]
  },
  {
   "cell_type": "code",
   "execution_count": 135,
   "metadata": {},
   "outputs": [
    {
     "name": "stdout",
     "output_type": "stream",
     "text": [
      "Test Loss: 2.1936, Test Acc: 0.4576\n"
     ]
    },
    {
     "data": {
      "text/plain": [
       "(2.1936003733903933, 0.45759368836291914)"
      ]
     },
     "execution_count": 135,
     "metadata": {},
     "output_type": "execute_result"
    }
   ],
   "source": [
    "# evaluate:\n",
    "test(model,test_loader,loss_func)"
   ]
  },
  {
   "cell_type": "markdown",
   "metadata": {},
   "source": [
    "plot performance:"
   ]
  },
  {
   "cell_type": "code",
   "execution_count": 136,
   "metadata": {},
   "outputs": [],
   "source": [
    "from matplotlib import pyplot as plt"
   ]
  },
  {
   "cell_type": "code",
   "execution_count": 137,
   "metadata": {},
   "outputs": [],
   "source": [
    "# 画曲线\n",
    "def plot_performance(epochs,Train_loss,Train_acc,cv_loss,cv_acc):\n",
    "    xlabel=\"Epoch\"\n",
    "    legends=[\"Training\",\"Validation\"]\n",
    "    \n",
    "    plt.figure(figsize=(20,5))\n",
    "    epochs_list = [i for i in range(epochs)]\n",
    "    train_acc=Train_acc\n",
    "    CV_acc=cv_acc\n",
    "    epochs_list_show = [i for i in range(0,epochs,2)]\n",
    "    min_y=min(min(train_acc),min(CV_acc))\n",
    "    max_y=max(max(train_acc),max(CV_acc))\n",
    "    \n",
    "    plt.subplot(121)\n",
    "    \n",
    "    plt.plot(epochs_list,train_acc)\n",
    "    plt.plot(epochs_list,CV_acc)\n",
    "    \n",
    "    plt.title(\"Model Accuracy\\n\",fontsize=17)\n",
    "    plt.xlabel(xlabel,fontsize=15)\n",
    "    plt.ylabel(\"Accuracy\",fontsize=15)\n",
    "    plt.xticks(epochs_list_show,epochs_list_show)\n",
    "    plt.ylim(min_y,max_y)\n",
    "    plt.legend(legends,loc=\"upper left\")\n",
    "    plt.grid()\n",
    "    \n",
    "    train_loss=Train_loss\n",
    "    CV_loss = cv_loss\n",
    "    \n",
    "    min_y=min(min(train_loss),min(CV_loss))\n",
    "    max_y=max(max(train_loss),max(CV_loss))\n",
    "    \n",
    "    plt.subplot(122)\n",
    "    \n",
    "    plt.plot(epochs_list,train_loss)\n",
    "    plt.plot(epochs_list,CV_loss)\n",
    "    \n",
    "    plt.title(\"Model Loss:\\n\",fontsize=17)\n",
    "    plt.xlabel(xlabel,fontsize=15)\n",
    "    plt.ylabel(\"Loss\",fontsize=15)\n",
    "    plt.xticks(epochs_list_show,epochs_list_show)\n",
    "    plt.ylim(min_y,max_y)\n",
    "    plt.legend(legends,loc=\"upper left\")\n",
    "    plt.grid()\n",
    "    plt.show()\n"
   ]
  },
  {
   "cell_type": "code",
   "execution_count": 138,
   "metadata": {},
   "outputs": [
    {
     "data": {
      "image/png": "[encoded data removed]",
      "text/plain": [
       "<Figure size 2000x500 with 2 Axes>"
      ]
     },
     "metadata": {},
     "output_type": "display_data"
    }
   ],
   "source": [
    "plot_performance(epochs,train_loss,train_acc,CV_loss,CV_acc)"
   ]
  },
  {
   "cell_type": "markdown",
   "metadata": {},
   "source": [
    "plotting confusion matrix:"
   ]
  },
  {
   "cell_type": "code",
   "execution_count": 139,
   "metadata": {},
   "outputs": [],
   "source": [
    "from sklearn.metrics import confusion_matrix,accuracy_score,precision_score,recall_score,f1_score"
   ]
  },
  {
   "cell_type": "code",
   "execution_count": 140,
   "metadata": {},
   "outputs": [
    {
     "name": "stdout",
     "output_type": "stream",
     "text": [
      "test accuracy:0.4694\n",
      "test_precision:0.4278\n",
      "test_recall:0.4694\n",
      "test F1 score:0.4127\n"
     ]
    },
    {
     "name": "stderr",
     "output_type": "stream",
     "text": [
      "d:\\Miniconda.env\\envs\\pytorch-cpu\\lib\\site-packages\\sklearn\\metrics\\_classification.py:1248: UndefinedMetricWarning: Precision is ill-defined and being set to 0.0 in labels with no predicted samples. Use `zero_division` parameter to control this behavior.\n",
      "  _warn_prf(average, modifier, msg_start, len(result))\n"
     ]
    }
   ],
   "source": [
    "prediction_Y = model(testX_tensor)\n",
    "pred_Y = torch.argmax(prediction_Y,axis=1)\n",
    "test_accuracy = accuracy_score(testY_tensor,pred_Y)\n",
    "test_precision = precision_score(testY_tensor,pred_Y,average='macro') #'macro'：计算每个类别的得分，然后计算它们的平均值（在这里，类别权重相等）。\n",
    "test_recall = recall_score(testY_tensor,pred_Y,average='macro')\n",
    "test_f1 = f1_score(testY_tensor,pred_Y,average='macro')\n",
    "print(f\"test accuracy:{test_accuracy:.4f}\")\n",
    "print(f\"test_precision:{test_precision:.4f}\")\n",
    "print(f\"test_recall:{test_recall:.4f}\")\n",
    "print(f\"test F1 score:{test_f1:.4f}\")\n"
   ]
  },
  {
   "cell_type": "code",
   "execution_count": 141,
   "metadata": {},
   "outputs": [
    {
     "name": "stdout",
     "output_type": "stream",
     "text": [
      "              precision    recall  f1-score   support\n",
      "\n",
      "         1.0       0.64      0.82      0.72        39\n",
      "         2.0       0.33      0.03      0.05        39\n",
      "         3.0       0.24      0.82      0.37        39\n",
      "         4.0       0.41      0.31      0.35        39\n",
      "         5.0       0.67      0.36      0.47        39\n",
      "         6.0       0.54      0.56      0.55        39\n",
      "         7.0       0.43      0.92      0.59        39\n",
      "         8.0       0.00      0.00      0.00        39\n",
      "         9.0       0.79      0.95      0.86        39\n",
      "        10.0       0.94      0.85      0.89        39\n",
      "        11.0       0.00      0.00      0.00        39\n",
      "        12.0       0.42      0.38      0.40        39\n",
      "        13.0       0.16      0.10      0.12        39\n",
      "\n",
      "    accuracy                           0.47       507\n",
      "   macro avg       0.43      0.47      0.41       507\n",
      "weighted avg       0.43      0.47      0.41       507\n",
      "\n"
     ]
    },
    {
     "name": "stderr",
     "output_type": "stream",
     "text": [
      "d:\\Miniconda.env\\envs\\pytorch-cpu\\lib\\site-packages\\sklearn\\metrics\\_classification.py:1248: UndefinedMetricWarning: Precision and F-score are ill-defined and being set to 0.0 in labels with no predicted samples. Use `zero_division` parameter to control this behavior.\n",
      "  _warn_prf(average, modifier, msg_start, len(result))\n",
      "d:\\Miniconda.env\\envs\\pytorch-cpu\\lib\\site-packages\\sklearn\\metrics\\_classification.py:1248: UndefinedMetricWarning: Precision and F-score are ill-defined and being set to 0.0 in labels with no predicted samples. Use `zero_division` parameter to control this behavior.\n",
      "  _warn_prf(average, modifier, msg_start, len(result))\n",
      "d:\\Miniconda.env\\envs\\pytorch-cpu\\lib\\site-packages\\sklearn\\metrics\\_classification.py:1248: UndefinedMetricWarning: Precision and F-score are ill-defined and being set to 0.0 in labels with no predicted samples. Use `zero_division` parameter to control this behavior.\n",
      "  _warn_prf(average, modifier, msg_start, len(result))\n"
     ]
    }
   ],
   "source": [
    "# classification report: 识别在哪些类别上分类表现良好，哪些表现不佳\n",
    "from sklearn.metrics import classification_report\n",
    "report = classification_report(testY_tensor,pred_Y)\n",
    "print(report)"
   ]
  },
  {
   "cell_type": "markdown",
   "metadata": {},
   "source": [
    "报告中的指标解释如下：\n",
    "\n",
    "- Precision（精确率）：对于每个类别，表示为**所有被模型正确识别为该类别的样本数**除以**模型预测为该类别的总样本数**。\n",
    "\n",
    "- Recall（召回率）：也称为真正率或灵敏度，对于每个类别，表示为**所有被模型正确识别为该类别的样本数**除以**实际为该类别的总样本数**。\n",
    "\n",
    "- F1-score（F1 分数）：精确率和召回率的调和平均数，是一个综合考虑精确率和召回率的指标。\n",
    "\n",
    "- Support（支持度）：每个类别在 y_true 中的样本数量。\n",
    "\n",
    "在报告的底部，你还可以看到以下两个整体评估指标：\n",
    "\n",
    "- Accuracy（准确率）：所有类别中，模型正确预测的样本数占总样本数的比例。\n",
    "\n",
    "- Macro avg（宏平均）：计算每个类别的指标的简单平均值。它不考虑类别的支持度（样本数量）。\n",
    "\n",
    "- Weighted avg（加权平均）：计算每个类别的指标的平均值，但是每个类别的指标会乘以它们的支持度（样本数量）作为权重。"
   ]
  },
  {
   "cell_type": "code",
   "execution_count": 146,
   "metadata": {},
   "outputs": [
    {
     "data": {
      "text/plain": [
       "array([[32,  0,  0,  0,  6,  0,  0,  0,  1,  0,  0,  0,  0],\n",
       "       [ 0,  1, 38,  0,  0,  0,  0,  0,  0,  0,  0,  0,  0],\n",
       "       [ 0,  0, 32,  0,  0,  4,  0,  0,  0,  1,  0,  0,  2],\n",
       "       [ 0,  0,  0, 12,  0,  0, 25,  0,  0,  0,  0,  2,  0],\n",
       "       [16,  1,  0,  0, 14,  1,  0,  0,  6,  0,  0,  1,  0]], dtype=int64)"
      ]
     },
     "execution_count": 146,
     "metadata": {},
     "output_type": "execute_result"
    }
   ],
   "source": [
    "conf_matrix = confusion_matrix(testY_tensor,pred_Y)\n",
    "conf_matrix[:5]"
   ]
  },
  {
   "cell_type": "code",
   "execution_count": 143,
   "metadata": {},
   "outputs": [],
   "source": [
    "def plot_conf_matrix(conf_matrix):\n",
    "    # 绘制混淆矩阵的热力图\n",
    "    plt.figure(figsize=(8, 6))  # 设置图形的大小\n",
    "    img = plt.imshow(conf_matrix, interpolation='nearest', cmap=plt.cm.Blues,aspect='auto')  # 使用 'nearest' 插值方法，避免数值模糊\n",
    "    plt.title('Confusion Matrix')  # 设置图形的标题\n",
    "    plt.colorbar(img)  # 显示颜色条\n",
    "\n",
    "    # 在混淆矩阵的每个单元格中添加文本标签\n",
    "    for i in range(conf_matrix.shape[0]):\n",
    "        for j in range(conf_matrix.shape[1]):\n",
    "            plt.text(j, i, format(conf_matrix[i, j], 'd'),  # 'd' 表示整数格式\n",
    "                    ha=\"center\", va=\"center\", color=\"red\",fontsize=12)\n",
    "\n",
    "    plt.xlabel('Predicted Label')  # 设置 x 轴的标签 , 测试集sample手势对应的索引\n",
    "    plt.ylabel('True Label')  # 设置 y 轴的标签, 测试集label手势对应的索引\n",
    "\n",
    "    # 显示图形\n",
    "    plt.tight_layout()\n",
    "    plt.show()"
   ]
  },
  {
   "cell_type": "code",
   "execution_count": 144,
   "metadata": {},
   "outputs": [
    {
     "data": {
      "image/png": "[encoded data removed]",
      "text/plain": [
       "<Figure size 800x600 with 2 Axes>"
      ]
     },
     "metadata": {},
     "output_type": "display_data"
    }
   ],
   "source": [
    "plot_conf_matrix(conf_matrix)"
   ]
  },
  {
   "cell_type": "code",
   "execution_count": null,
   "metadata": {},
   "outputs": [],
   "source": []
  }
 ],
 "metadata": {
  "kernelspec": {
   "display_name": "pytorch-cpu",
   "language": "python",
   "name": "python3"
  },
  "language_info": {
   "codemirror_mode": {
    "name": "ipython",
    "version": 3
   },
   "file_extension": ".py",
   "mimetype": "text/x-python",
   "name": "python",
   "nbconvert_exporter": "python",
   "pygments_lexer": "ipython3",
   "version": "3.8.18"
  },
  "orig_nbformat": 4
 },
 "nbformat": 4,
 "nbformat_minor": 2
}
